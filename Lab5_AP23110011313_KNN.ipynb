{
  "nbformat": 4,
  "nbformat_minor": 0,
  "metadata": {
    "colab": {
      "provenance": []
    },
    "kernelspec": {
      "name": "python3",
      "display_name": "Python 3"
    },
    "language_info": {
      "name": "python"
    }
  },
  "cells": [
    {
      "cell_type": "code",
      "execution_count": 1,
      "metadata": {
        "id": "NpkHOkkTLTOj"
      },
      "outputs": [],
      "source": [
        "# Step 1: Import Libraries\n",
        "import pandas as pd\n",
        "import numpy as np\n",
        "from sklearn.preprocessing import LabelEncoder, StandardScaler\n",
        "from sklearn.model_selection import train_test_split\n",
        "from sklearn.neighbors import KNeighborsClassifier"
      ]
    },
    {
      "cell_type": "code",
      "source": [
        "# ----------------------------\n",
        "# Step 2: Load Dataset\n",
        "# ----------------------------\n",
        "df = pd.read_csv(\"multiclass.csv\")   # <-- your dataset in Colab\n",
        "\n",
        "print(\"First 5 rows of dataset:\\n\", df.head())\n",
        "print(\"\\nDataset Info:\\n\")\n",
        "print(df.info())\n",
        "print(\"\\nSummary Statistics:\\n\", df.describe())\n"
      ],
      "metadata": {
        "colab": {
          "base_uri": "https://localhost:8080/"
        },
        "id": "WvDqkOdSN3b3",
        "outputId": "d6f227d1-b761-4221-8bfe-091743f85281"
      },
      "execution_count": 2,
      "outputs": [
        {
          "output_type": "stream",
          "name": "stdout",
          "text": [
            "First 5 rows of dataset:\n",
            "    Region  Fresh  Milk  Grocery  Frozen  Detergents_Paper  Delicassen  class\n",
            "0       3  12669  9656     7561     214              2674        1338      2\n",
            "1       3   7057  9810     9568    1762              3293        1776      2\n",
            "2       3   6353  8808     7684    2405              3516        7844      2\n",
            "3       3  13265  1196     4221    6404               507        1788      1\n",
            "4       3  22615  5410     7198    3915              1777        5185      1\n",
            "\n",
            "Dataset Info:\n",
            "\n",
            "<class 'pandas.core.frame.DataFrame'>\n",
            "RangeIndex: 440 entries, 0 to 439\n",
            "Data columns (total 8 columns):\n",
            " #   Column            Non-Null Count  Dtype\n",
            "---  ------            --------------  -----\n",
            " 0   Region            440 non-null    int64\n",
            " 1   Fresh             440 non-null    int64\n",
            " 2   Milk              440 non-null    int64\n",
            " 3   Grocery           440 non-null    int64\n",
            " 4   Frozen            440 non-null    int64\n",
            " 5   Detergents_Paper  440 non-null    int64\n",
            " 6   Delicassen        440 non-null    int64\n",
            " 7   class             440 non-null    int64\n",
            "dtypes: int64(8)\n",
            "memory usage: 27.6 KB\n",
            "None\n",
            "\n",
            "Summary Statistics:\n",
            "            Region          Fresh          Milk       Grocery        Frozen  \\\n",
            "count  440.000000     440.000000    440.000000    440.000000    440.000000   \n",
            "mean     2.543182   12000.297727   5796.265909   7951.277273   3071.931818   \n",
            "std      0.774272   12647.328865   7380.377175   9503.162829   4854.673333   \n",
            "min      1.000000       3.000000     55.000000      3.000000     25.000000   \n",
            "25%      2.000000    3127.750000   1533.000000   2153.000000    742.250000   \n",
            "50%      3.000000    8504.000000   3627.000000   4755.500000   1526.000000   \n",
            "75%      3.000000   16933.750000   7190.250000  10655.750000   3554.250000   \n",
            "max      3.000000  112151.000000  73498.000000  92780.000000  60869.000000   \n",
            "\n",
            "       Detergents_Paper    Delicassen       class  \n",
            "count        440.000000    440.000000  440.000000  \n",
            "mean        2881.493182   1524.870455    2.195455  \n",
            "std         4767.854448   2820.105937    0.744289  \n",
            "min            3.000000      3.000000    1.000000  \n",
            "25%          256.750000    408.250000    2.000000  \n",
            "50%          816.500000    965.500000    2.000000  \n",
            "75%         3922.000000   1820.250000    3.000000  \n",
            "max        40827.000000  47943.000000    3.000000  \n"
          ]
        }
      ]
    },
    {
      "cell_type": "code",
      "source": [
        "\n",
        "# ----------------------------\n",
        "# Step 3: Basic Preprocessing\n",
        "# ----------------------------\n",
        "\n",
        "# 3.1 Check for null values\n",
        "print(\"\\nMissing values per column:\\n\", df.isnull().sum())\n",
        "\n",
        "# If there are nulls, fill or drop\n",
        "# Example: df.fillna(df.mean(), inplace=True)\n",
        "\n",
        "# 3.2 Encoding categorical columns\n",
        "# Assume last column is the target\n",
        "target_col = df.columns[-1]\n",
        "\n",
        "if df[target_col].dtype == 'object':   # if target is string labels\n",
        "    encoder = LabelEncoder()\n",
        "    df[target_col] = encoder.fit_transform(df[target_col])\n",
        "\n",
        "# Also encode other categorical features if any\n",
        "for col in df.columns:\n",
        "    if df[col].dtype == 'object' and col != target_col:\n",
        "        df[col] = LabelEncoder().fit_transform(df[col])\n",
        "\n",
        "# 3.3 Split into features (X) and target (y)\n",
        "X = df.drop(target_col, axis=1)\n",
        "y = df[target_col]\n",
        "\n",
        "# 3.4 Standardize features\n",
        "scaler = StandardScaler()\n",
        "X_scaled = scaler.fit_transform(X)\n",
        "\n",
        "print(\"\\nBefore Scaling:\\n\", X.head())\n",
        "print(\"\\nAfter Scaling (first 5 rows):\\n\", X_scaled[:5])\n",
        "\n",
        "# 3.5 Check for class imbalance\n",
        "print(\"\\nClass distribution:\\n\", y.value_counts())"
      ],
      "metadata": {
        "colab": {
          "base_uri": "https://localhost:8080/"
        },
        "id": "daFjdV2zN3pE",
        "outputId": "d53c95f8-b455-40b5-bca0-1f72882a139b"
      },
      "execution_count": 3,
      "outputs": [
        {
          "output_type": "stream",
          "name": "stdout",
          "text": [
            "\n",
            "Missing values per column:\n",
            " Region              0\n",
            "Fresh               0\n",
            "Milk                0\n",
            "Grocery             0\n",
            "Frozen              0\n",
            "Detergents_Paper    0\n",
            "Delicassen          0\n",
            "class               0\n",
            "dtype: int64\n",
            "\n",
            "Before Scaling:\n",
            "    Region  Fresh  Milk  Grocery  Frozen  Detergents_Paper  Delicassen\n",
            "0       3  12669  9656     7561     214              2674        1338\n",
            "1       3   7057  9810     9568    1762              3293        1776\n",
            "2       3   6353  8808     7684    2405              3516        7844\n",
            "3       3  13265  1196     4221    6404               507        1788\n",
            "4       3  22615  5410     7198    3915              1777        5185\n",
            "\n",
            "After Scaling (first 5 rows):\n",
            " [[ 0.59066829  0.05293319  0.52356777 -0.04111489 -0.58936716 -0.04356873\n",
            "  -0.06633906]\n",
            " [ 0.59066829 -0.39130197  0.54445767  0.17031835 -0.27013618  0.08640684\n",
            "   0.08915105]\n",
            " [ 0.59066829 -0.44702926  0.40853771 -0.0281571  -0.13753572  0.13323164\n",
            "   2.24329255]\n",
            " [ 0.59066829  0.10011141 -0.62401993 -0.3929769   0.6871443  -0.49858822\n",
            "   0.09341105]\n",
            " [ 0.59066829  0.84023948 -0.05239645 -0.07935618  0.17385884 -0.23191782\n",
            "   1.29934689]]\n",
            "\n",
            "Class distribution:\n",
            " class\n",
            "2    180\n",
            "3    173\n",
            "1     87\n",
            "Name: count, dtype: int64\n"
          ]
        }
      ]
    },
    {
      "cell_type": "code",
      "source": [
        "\n",
        "# ----------------------------\n",
        "# Step 4: Train-Test Split\n",
        "# ----------------------------\n",
        "X_train, X_test, y_train, y_test = train_test_split(\n",
        "    X_scaled, y, test_size=0.2, random_state=42, stratify=y\n",
        ")\n",
        "\n",
        "print(\"\\nShapes:\")\n",
        "print(\"X_train:\", X_train.shape, \"X_test:\", X_test.shape)"
      ],
      "metadata": {
        "colab": {
          "base_uri": "https://localhost:8080/"
        },
        "id": "Yi3w7qraN3sf",
        "outputId": "4f2c06f9-7d19-4fce-c29a-6591b560c5d4"
      },
      "execution_count": 4,
      "outputs": [
        {
          "output_type": "stream",
          "name": "stdout",
          "text": [
            "\n",
            "Shapes:\n",
            "X_train: (352, 7) X_test: (88, 7)\n"
          ]
        }
      ]
    },
    {
      "cell_type": "code",
      "source": [
        "\n",
        "# ----------------------------\n",
        "# Step 5: Scratch Implementation of KNN\n",
        "# ----------------------------\n",
        "def euclidean_distance(x1, x2):\n",
        "    return np.sqrt(np.sum((x1 - x2) ** 2))\n",
        "\n",
        "class KNN:\n",
        "    def __init__(self, k=3):\n",
        "        self.k = k\n",
        "\n",
        "    def fit(self, X, y):\n",
        "      self.X_train = X\n",
        "      self.y_train = np.array(y)   # ✅ convert to numpy array\n",
        "\n",
        "\n",
        "    def predict(self, X):\n",
        "        return [self._predict(x) for x in X]\n",
        "\n",
        "    def _predict(self, x):\n",
        "        # Calculate distance to all training points\n",
        "        distances = [euclidean_distance(x, x_train) for x_train in self.X_train]\n",
        "\n",
        "        # Get indices of k nearest neighbors\n",
        "        k_idx = np.argsort(distances)[:self.k]\n",
        "\n",
        "        # Extract labels of neighbors\n",
        "        k_neighbor_labels = [self.y_train[i] for i in k_idx]\n",
        "\n",
        "        # Majority vote\n",
        "        most_common = max(set(k_neighbor_labels), key=k_neighbor_labels.count)\n",
        "        return most_common\n",
        "\n",
        "# Train and test scratch KNN\n",
        "knn_scratch = KNN(k=5)\n",
        "knn_scratch.fit(X_train, y_train)\n",
        "\n",
        "scratch_preds = knn_scratch.predict(X_test)\n",
        "scratch_accuracy = np.mean(scratch_preds == y_test)\n",
        "\n",
        "print(\"\\nScratch KNN Accuracy:\", scratch_accuracy)"
      ],
      "metadata": {
        "colab": {
          "base_uri": "https://localhost:8080/"
        },
        "id": "m0k0a71qN3xS",
        "outputId": "b3f608ab-cd40-4054-826a-b5b7b13fd185"
      },
      "execution_count": 8,
      "outputs": [
        {
          "output_type": "stream",
          "name": "stdout",
          "text": [
            "\n",
            "Scratch KNN Accuracy: 0.9545454545454546\n"
          ]
        }
      ]
    },
    {
      "cell_type": "code",
      "source": [
        "\n",
        "# ----------------------------\n",
        "# Step 6: KNN using Scikit-learn\n",
        "# ----------------------------\n",
        "knn = KNeighborsClassifier(n_neighbors=5)\n",
        "knn.fit(X_train, y_train)\n",
        "\n",
        "sk_preds = knn.predict(X_test)\n",
        "sk_accuracy = np.mean(sk_preds == y_test)\n",
        "\n",
        "print(\"Scikit-learn KNN Accuracy:\", sk_accuracy)"
      ],
      "metadata": {
        "colab": {
          "base_uri": "https://localhost:8080/"
        },
        "id": "0_pDJ1eeN30s",
        "outputId": "a6c37605-ab51-4939-e888-2394924b5376"
      },
      "execution_count": 9,
      "outputs": [
        {
          "output_type": "stream",
          "name": "stdout",
          "text": [
            "Scikit-learn KNN Accuracy: 0.9545454545454546\n"
          ]
        }
      ]
    },
    {
      "cell_type": "code",
      "source": [],
      "metadata": {
        "id": "GcRWyUBgWJ77"
      },
      "execution_count": null,
      "outputs": []
    }
  ]
}